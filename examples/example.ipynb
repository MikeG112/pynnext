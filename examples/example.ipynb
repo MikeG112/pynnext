{
 "cells": [
  {
   "cell_type": "markdown",
   "metadata": {},
   "source": [
    "This example walks through creating and using an nnext index for nearest neighbor search. It illustrates a few\n",
    "test cases to demonstrate the capabilities out of the box, and includes a visualization. To follow along with this example\n",
    "in your own environment, install the pynnext package (see the README), and install the additional dependencies for\n",
    "the example declared in the `requirements.txt` file in this folder."
   ]
  },
  {
   "cell_type": "code",
   "execution_count": null,
   "metadata": {},
   "outputs": [],
   "source": [
    "# External imports\n",
    "import numpy as np\n",
    "\n",
    "# Internal imports\n",
    "import nnext"
   ]
  },
  {
   "cell_type": "code",
   "execution_count": null,
   "metadata": {},
   "outputs": [],
   "source": [
    "# Create and initialize a client for a local running single-node server.\n",
    "nnclient = nnext.Client(\n",
    "    nodes=[\n",
    "    {'host': 'localhost', 'port': '6040'}\n",
    "  ])"
   ]
  },
  {
   "cell_type": "code",
   "execution_count": null,
   "metadata": {},
   "outputs": [],
   "source": [
    "# Vector dimension of interest\n",
    "n_dim = 768\n",
    "\n",
    "# Create an vector index.\n",
    "nnindex = nnclient.index.create(\n",
    "    d=n_dim,\n",
    "    name='test_index')\n",
    "\n",
    "# Insert vectors into the index.\n",
    "n_vecs = 1000\n",
    "vectors = np.random.rand(n_vecs, n_dim)\n",
    "nnindex.add(vectors)\n",
    "\n",
    "# # Access our previously create index\n",
    "# nnindex = nnclient.index[\"test_index_2\"]\n",
    "\n",
    "# Create a query vector set.\n",
    "n_queries = 10\n",
    "q_vectors = np.random.rand(n_queries, n_dim)\n",
    "\n",
    "# Search for the k nearest neighbors of each vector\n",
    "# in the query set, among the indexed vectors.\n",
    "k = 5\n",
    "_idx, _res = nnindex.search(q_vectors, k, return_vector=True)\n",
    "\n",
    "# The search operation returns a 2d list of the indices of the nearest neighbors\n",
    "# for each vector in the query set (i.e. shape (n_queries, k)), and optionally the data associated with\n",
    "# the neighbor vectors themselves, i.e. nested list of shape (n_queries, k, n_dim), where entry (i, j, :) is the (n_dim)-dimensional\n",
    "# vector corresponding to the jth nearest neighbor of query vector i\n",
    "assert len(_idx) == n_queries\n",
    "assert len(_idx[0]) == k\n",
    "assert len(_res) == n_queries\n",
    "assert len(_res[0]) == k\n",
    "assert len(_res[0][0]) == n_dim"
   ]
  },
  {
   "cell_type": "code",
   "execution_count": null,
   "metadata": {},
   "outputs": [],
   "source": [
    "# TODO: Figure out why server is not allowing creation of an index for 3d-vectors\n",
    "# n_dim = 3\n",
    "\n",
    "# # Create an vector index.\n",
    "# nnindex = nnclient.index.create(\n",
    "#     d=n_dim,\n",
    "#     name='test_4d2')\n",
    "\n",
    "# vec1 = np.array[1, 0, 0]"
   ]
  },
  {
   "cell_type": "code",
   "execution_count": null,
   "metadata": {},
   "outputs": [],
   "source": [
    "# Sanity Check:\n",
    "# TODO: Add test cases of this sort to server code\n",
    "\n",
    "n_dim = 128\n",
    "\n",
    "# Create an vector index.\n",
    "nnindex = nnclient.index.create(\n",
    "    d=n_dim,\n",
    "    name='sanity_index_13')\n",
    "\n",
    "# Create a query vector set.\n",
    "n_queries = 10\n",
    "q_vectors = np.random.rand(n_queries, n_dim)\n",
    "\n",
    "# Also insert that set into the index\n",
    "nnindex.add(q_vectors)\n",
    "\n",
    "# Search for the k nearest neighbors of each vector\n",
    "# in the query set, among the indexed vectors.\n",
    "k = 5\n",
    "_idx, _res = nnindex.search(q_vectors, k, return_vector=True)\n",
    "\n",
    "# Ensure that:\n",
    "# 1. The index of the nearest vector to each query is the \"index\" of the query vector (i.e. it's index in the list from which we inserted)\n",
    "# 2. The actual vector asccociated with each nearest neighbor should be the query vector itself. We'll test this via vector norm,\n",
    "# since equality of vectors is sensitive to storage reltated rounding errors.\n",
    "for idx, q in enumerate(q_vectors):\n",
    "    nn = _res[idx][0] # supposed nearest neighbor\n",
    "    nn_idx = int(_idx[idx][0]) # supposed idx of that neighbor\n",
    "\n",
    "    # Test 1\n",
    "    assert nn_idx == idx\n",
    "\n",
    "    # Test 2\n",
    "    eps = 1e-6\n",
    "    assert np.linalg.norm(np.array(nn) - q) <= eps"
   ]
  },
  {
   "cell_type": "code",
   "execution_count": null,
   "metadata": {},
   "outputs": [],
   "source": []
  }
 ],
 "metadata": {
  "interpreter": {
   "hash": "e03505dbd14f5a746918af0004fd48cae5bfcae10d99896b19326912c27fb44b"
  },
  "kernelspec": {
   "display_name": "Python 3.10.4 ('nnext')",
   "language": "python",
   "name": "python3"
  },
  "language_info": {
   "codemirror_mode": {
    "name": "ipython",
    "version": 3
   },
   "file_extension": ".py",
   "mimetype": "text/x-python",
   "name": "python",
   "nbconvert_exporter": "python",
   "pygments_lexer": "ipython3",
   "version": "3.8.10"
  },
  "orig_nbformat": 4
 },
 "nbformat": 4,
 "nbformat_minor": 2
}
